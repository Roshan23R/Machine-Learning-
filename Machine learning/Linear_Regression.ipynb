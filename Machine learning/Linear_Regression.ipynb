{
 "cells": [
  {
   "cell_type": "code",
   "execution_count": 3,
   "id": "66899dae",
   "metadata": {},
   "outputs": [],
   "source": [
    "import numpy as np"
   ]
  },
  {
   "cell_type": "code",
   "execution_count": 4,
   "id": "4c9579ac",
   "metadata": {},
   "outputs": [],
   "source": [
    "data=np.loadtxt(\"data.csv\", delimiter=\",\")"
   ]
  },
  {
   "cell_type": "code",
   "execution_count": 5,
   "id": "43546126",
   "metadata": {},
   "outputs": [
    {
     "name": "stdout",
     "output_type": "stream",
     "text": [
      "(100, 2)\n",
      "[[ 32.50234527  31.70700585]\n",
      " [ 53.42680403  68.77759598]\n",
      " [ 61.53035803  62.5623823 ]\n",
      " [ 47.47563963  71.54663223]\n",
      " [ 59.81320787  87.23092513]\n",
      " [ 55.14218841  78.21151827]\n",
      " [ 52.21179669  79.64197305]\n",
      " [ 39.29956669  59.17148932]\n",
      " [ 48.10504169  75.3312423 ]\n",
      " [ 52.55001444  71.30087989]\n",
      " [ 45.41973014  55.16567715]\n",
      " [ 54.35163488  82.47884676]\n",
      " [ 44.1640495   62.00892325]\n",
      " [ 58.16847072  75.39287043]\n",
      " [ 56.72720806  81.43619216]\n",
      " [ 48.95588857  60.72360244]\n",
      " [ 44.68719623  82.89250373]\n",
      " [ 60.29732685  97.37989686]\n",
      " [ 45.61864377  48.84715332]\n",
      " [ 38.81681754  56.87721319]\n",
      " [ 66.18981661  83.87856466]\n",
      " [ 65.41605175 118.5912173 ]\n",
      " [ 47.48120861  57.25181946]\n",
      " [ 41.57564262  51.39174408]\n",
      " [ 51.84518691  75.38065167]\n",
      " [ 59.37082201  74.76556403]\n",
      " [ 57.31000344  95.45505292]\n",
      " [ 63.61556125  95.22936602]\n",
      " [ 46.73761941  79.05240617]\n",
      " [ 50.55676015  83.43207142]\n",
      " [ 52.22399609  63.35879032]\n",
      " [ 35.56783005  41.4128853 ]\n",
      " [ 42.43647694  76.61734128]\n",
      " [ 58.16454011  96.76956643]\n",
      " [ 57.50444762  74.08413012]\n",
      " [ 45.44053073  66.58814441]\n",
      " [ 61.89622268  77.76848242]\n",
      " [ 33.09383174  50.71958891]\n",
      " [ 36.43600951  62.12457082]\n",
      " [ 37.67565486  60.81024665]\n",
      " [ 44.55560838  52.68298337]\n",
      " [ 43.31828263  58.56982472]\n",
      " [ 50.07314563  82.90598149]\n",
      " [ 43.87061265  61.4247098 ]\n",
      " [ 62.99748075 115.2441528 ]\n",
      " [ 32.66904376  45.57058882]\n",
      " [ 40.16689901  54.0840548 ]\n",
      " [ 53.57507753  87.99445276]\n",
      " [ 33.86421497  52.72549438]\n",
      " [ 64.70713867  93.57611869]\n",
      " [ 38.11982403  80.16627545]\n",
      " [ 44.50253806  65.10171157]\n",
      " [ 40.59953838  65.56230126]\n",
      " [ 41.72067636  65.28088692]\n",
      " [ 51.08863468  73.43464155]\n",
      " [ 55.0780959   71.13972786]\n",
      " [ 41.37772653  79.10282968]\n",
      " [ 62.49469743  86.52053844]\n",
      " [ 49.20388754  84.74269781]\n",
      " [ 41.10268519  59.35885025]\n",
      " [ 41.18201611  61.68403752]\n",
      " [ 50.18638949  69.84760416]\n",
      " [ 52.37844622  86.09829121]\n",
      " [ 50.13548549  59.10883927]\n",
      " [ 33.64470601  69.89968164]\n",
      " [ 39.55790122  44.86249071]\n",
      " [ 56.13038882  85.49806778]\n",
      " [ 57.36205213  95.53668685]\n",
      " [ 60.26921439  70.25193442]\n",
      " [ 35.67809389  52.72173496]\n",
      " [ 31.588117    50.39267014]\n",
      " [ 53.66093226  63.64239878]\n",
      " [ 46.68222865  72.24725107]\n",
      " [ 43.10782022  57.81251298]\n",
      " [ 70.34607562 104.25710159]\n",
      " [ 44.49285588  86.64202032]\n",
      " [ 57.5045333   91.486778  ]\n",
      " [ 36.93007661  55.23166089]\n",
      " [ 55.80573336  79.55043668]\n",
      " [ 38.95476907  44.84712424]\n",
      " [ 56.9012147   80.20752314]\n",
      " [ 56.86890066  83.14274979]\n",
      " [ 34.3331247   55.72348926]\n",
      " [ 59.04974121  77.63418251]\n",
      " [ 57.78822399  99.05141484]\n",
      " [ 54.28232871  79.12064627]\n",
      " [ 51.0887199   69.58889785]\n",
      " [ 50.28283635  69.51050331]\n",
      " [ 44.21174175  73.68756432]\n",
      " [ 38.00548801  61.36690454]\n",
      " [ 32.94047994  67.17065577]\n",
      " [ 53.69163957  85.66820315]\n",
      " [ 68.76573427 114.85387123]\n",
      " [ 46.2309665   90.12357207]\n",
      " [ 68.31936082  97.91982104]\n",
      " [ 50.03017434  81.53699078]\n",
      " [ 49.23976534  72.11183247]\n",
      " [ 50.03957594  85.23200734]\n",
      " [ 48.14985889  66.22495789]\n",
      " [ 25.12848465  53.45439421]]\n"
     ]
    }
   ],
   "source": [
    "print(data.shape)\n",
    "print(data)"
   ]
  },
  {
   "cell_type": "code",
   "execution_count": 6,
   "id": "dc1c5291",
   "metadata": {},
   "outputs": [],
   "source": [
    "x=data[:,0].reshape(-1,1)\n",
    "y=data[:,1]"
   ]
  },
  {
   "cell_type": "code",
   "execution_count": 7,
   "id": "fdc173bd",
   "metadata": {},
   "outputs": [
    {
     "data": {
      "text/plain": [
       "((100, 1), (100,))"
      ]
     },
     "execution_count": 7,
     "metadata": {},
     "output_type": "execute_result"
    }
   ],
   "source": [
    "x.shape,y.shape"
   ]
  },
  {
   "cell_type": "code",
   "execution_count": 8,
   "id": "3707446d",
   "metadata": {},
   "outputs": [
    {
     "data": {
      "text/html": [
       "<style>#sk-container-id-1 {color: black;background-color: white;}#sk-container-id-1 pre{padding: 0;}#sk-container-id-1 div.sk-toggleable {background-color: white;}#sk-container-id-1 label.sk-toggleable__label {cursor: pointer;display: block;width: 100%;margin-bottom: 0;padding: 0.3em;box-sizing: border-box;text-align: center;}#sk-container-id-1 label.sk-toggleable__label-arrow:before {content: \"▸\";float: left;margin-right: 0.25em;color: #696969;}#sk-container-id-1 label.sk-toggleable__label-arrow:hover:before {color: black;}#sk-container-id-1 div.sk-estimator:hover label.sk-toggleable__label-arrow:before {color: black;}#sk-container-id-1 div.sk-toggleable__content {max-height: 0;max-width: 0;overflow: hidden;text-align: left;background-color: #f0f8ff;}#sk-container-id-1 div.sk-toggleable__content pre {margin: 0.2em;color: black;border-radius: 0.25em;background-color: #f0f8ff;}#sk-container-id-1 input.sk-toggleable__control:checked~div.sk-toggleable__content {max-height: 200px;max-width: 100%;overflow: auto;}#sk-container-id-1 input.sk-toggleable__control:checked~label.sk-toggleable__label-arrow:before {content: \"▾\";}#sk-container-id-1 div.sk-estimator input.sk-toggleable__control:checked~label.sk-toggleable__label {background-color: #d4ebff;}#sk-container-id-1 div.sk-label input.sk-toggleable__control:checked~label.sk-toggleable__label {background-color: #d4ebff;}#sk-container-id-1 input.sk-hidden--visually {border: 0;clip: rect(1px 1px 1px 1px);clip: rect(1px, 1px, 1px, 1px);height: 1px;margin: -1px;overflow: hidden;padding: 0;position: absolute;width: 1px;}#sk-container-id-1 div.sk-estimator {font-family: monospace;background-color: #f0f8ff;border: 1px dotted black;border-radius: 0.25em;box-sizing: border-box;margin-bottom: 0.5em;}#sk-container-id-1 div.sk-estimator:hover {background-color: #d4ebff;}#sk-container-id-1 div.sk-parallel-item::after {content: \"\";width: 100%;border-bottom: 1px solid gray;flex-grow: 1;}#sk-container-id-1 div.sk-label:hover label.sk-toggleable__label {background-color: #d4ebff;}#sk-container-id-1 div.sk-serial::before {content: \"\";position: absolute;border-left: 1px solid gray;box-sizing: border-box;top: 0;bottom: 0;left: 50%;z-index: 0;}#sk-container-id-1 div.sk-serial {display: flex;flex-direction: column;align-items: center;background-color: white;padding-right: 0.2em;padding-left: 0.2em;position: relative;}#sk-container-id-1 div.sk-item {position: relative;z-index: 1;}#sk-container-id-1 div.sk-parallel {display: flex;align-items: stretch;justify-content: center;background-color: white;position: relative;}#sk-container-id-1 div.sk-item::before, #sk-container-id-1 div.sk-parallel-item::before {content: \"\";position: absolute;border-left: 1px solid gray;box-sizing: border-box;top: 0;bottom: 0;left: 50%;z-index: -1;}#sk-container-id-1 div.sk-parallel-item {display: flex;flex-direction: column;z-index: 1;position: relative;background-color: white;}#sk-container-id-1 div.sk-parallel-item:first-child::after {align-self: flex-end;width: 50%;}#sk-container-id-1 div.sk-parallel-item:last-child::after {align-self: flex-start;width: 50%;}#sk-container-id-1 div.sk-parallel-item:only-child::after {width: 0;}#sk-container-id-1 div.sk-dashed-wrapped {border: 1px dashed gray;margin: 0 0.4em 0.5em 0.4em;box-sizing: border-box;padding-bottom: 0.4em;background-color: white;}#sk-container-id-1 div.sk-label label {font-family: monospace;font-weight: bold;display: inline-block;line-height: 1.2em;}#sk-container-id-1 div.sk-label-container {text-align: center;}#sk-container-id-1 div.sk-container {/* jupyter's `normalize.less` sets `[hidden] { display: none; }` but bootstrap.min.css set `[hidden] { display: none !important; }` so we also need the `!important` here to be able to override the default hidden behavior on the sphinx rendered scikit-learn.org. See: https://github.com/scikit-learn/scikit-learn/issues/21755 */display: inline-block !important;position: relative;}#sk-container-id-1 div.sk-text-repr-fallback {display: none;}</style><div id=\"sk-container-id-1\" class=\"sk-top-container\"><div class=\"sk-text-repr-fallback\"><pre>LinearRegression()</pre><b>In a Jupyter environment, please rerun this cell to show the HTML representation or trust the notebook. <br />On GitHub, the HTML representation is unable to render, please try loading this page with nbviewer.org.</b></div><div class=\"sk-container\" hidden><div class=\"sk-item\"><div class=\"sk-estimator sk-toggleable\"><input class=\"sk-toggleable__control sk-hidden--visually\" id=\"sk-estimator-id-1\" type=\"checkbox\" checked><label for=\"sk-estimator-id-1\" class=\"sk-toggleable__label sk-toggleable__label-arrow\">LinearRegression</label><div class=\"sk-toggleable__content\"><pre>LinearRegression()</pre></div></div></div></div></div>"
      ],
      "text/plain": [
       "LinearRegression()"
      ]
     },
     "execution_count": 8,
     "metadata": {},
     "output_type": "execute_result"
    }
   ],
   "source": [
    "from sklearn import model_selection\n",
    "x_train,x_test,y_train,y_test=model_selection.train_test_split(x,y)\n",
    "from sklearn.linear_model import LinearRegression\n",
    "alg1=LinearRegression()\n",
    "alg1.fit(x_train, y_train)"
   ]
  },
  {
   "cell_type": "code",
   "execution_count": 9,
   "id": "2c68c4e6",
   "metadata": {},
   "outputs": [
    {
     "data": {
      "text/plain": [
       "array([1.34354606])"
      ]
     },
     "execution_count": 9,
     "metadata": {},
     "output_type": "execute_result"
    }
   ],
   "source": [
    "alg1.coef_"
   ]
  },
  {
   "cell_type": "code",
   "execution_count": 10,
   "id": "1c8b6d57",
   "metadata": {},
   "outputs": [
    {
     "data": {
      "text/plain": [
       "6.848481317332812"
      ]
     },
     "execution_count": 10,
     "metadata": {},
     "output_type": "execute_result"
    }
   ],
   "source": [
    "alg1.intercept_"
   ]
  },
  {
   "cell_type": "code",
   "execution_count": 11,
   "id": "b4f0c333",
   "metadata": {},
   "outputs": [
    {
     "data": {
      "text/plain": [
       "<function matplotlib.pyplot.show(close=None, block=None)>"
      ]
     },
     "execution_count": 11,
     "metadata": {},
     "output_type": "execute_result"
    },
    {
     "data": {
      "image/png": "[encoded data removed]",
      "text/plain": [
       "<Figure size 432x288 with 1 Axes>"
      ]
     },
     "metadata": {
      "needs_background": "light"
     },
     "output_type": "display_data"
    }
   ],
   "source": [
    "import matplotlib.pyplot as plt\n",
    "m=alg1.coef_[0]\n",
    "c=alg1.intercept_\n",
    "\n",
    "x_line=np.arange(30,70,0.1)\n",
    "y_line=m*x_line + c\n",
    "train_1d=x_train.reshape(75)\n",
    "plt.plot(x_line,y_line,color=\"red\")\n",
    "plt.scatter(x_train,y_train)\n",
    "plt.show"
   ]
  },
  {
   "cell_type": "code",
   "execution_count": 12,
   "id": "b85bdf9c",
   "metadata": {},
   "outputs": [
    {
     "data": {
      "text/plain": [
       "<function matplotlib.pyplot.show(close=None, block=None)>"
      ]
     },
     "execution_count": 12,
     "metadata": {},
     "output_type": "execute_result"
    },
    {
     "data": {
      "image/png": "[encoded data removed]",
      "text/plain": [
       "<Figure size 432x288 with 1 Axes>"
      ]
     },
     "metadata": {
      "needs_background": "light"
     },
     "output_type": "display_data"
    }
   ],
   "source": [
    "import matplotlib.pyplot as plt\n",
    "m=alg1.coef_[0]\n",
    "c=alg1.intercept_\n",
    "\n",
    "x_line=np.arange(30,70,0.1)\n",
    "y_line=m*x_line + c\n",
    "train_1d=x_test.reshape(25)\n",
    "plt.plot(x_line,y_line,color=\"red\")\n",
    "plt.scatter(x_test,y_test)\n",
    "plt.show"
   ]
  },
  {
   "cell_type": "code",
   "execution_count": 13,
   "id": "06d8354b",
   "metadata": {},
   "outputs": [
    {
     "name": "stdout",
     "output_type": "stream",
     "text": [
      "[50.03017434 33.09383174 50.03957594 33.64470601 55.14218841 38.81681754\n",
      " 41.18201611 52.37844622 44.68719623 68.31936082 52.21179669 68.76573427\n",
      " 37.67565486 62.49469743 38.95476907 49.23976534 59.04974121 50.55676015\n",
      " 54.35163488 43.87061265 55.0780959  52.55001444 35.56783005 49.20388754\n",
      " 61.53035803]\n",
      "[[45.44053073]\n",
      " [48.95588857]\n",
      " [31.588117  ]\n",
      " [46.68222865]\n",
      " [39.55790122]\n",
      " [56.86890066]\n",
      " [54.28232871]\n",
      " [45.61864377]\n",
      " [57.36205213]\n",
      " [44.55560838]\n",
      " [59.37082201]\n",
      " [51.08863468]\n",
      " [62.99748075]\n",
      " [52.22399609]\n",
      " [41.10268519]\n",
      " [50.13548549]\n",
      " [32.66904376]\n",
      " [47.47563963]\n",
      " [51.0887199 ]\n",
      " [42.43647694]\n",
      " [56.13038882]\n",
      " [48.10504169]\n",
      " [53.66093226]\n",
      " [57.78822399]\n",
      " [63.61556125]\n",
      " [61.89622268]\n",
      " [50.18638949]\n",
      " [60.26921439]\n",
      " [50.07314563]\n",
      " [46.2309665 ]\n",
      " [55.80573336]\n",
      " [39.29956669]\n",
      " [70.34607562]\n",
      " [40.16689901]\n",
      " [45.41973014]\n",
      " [46.73761941]\n",
      " [64.70713867]\n",
      " [57.50444762]\n",
      " [41.72067636]\n",
      " [36.93007661]\n",
      " [44.1640495 ]\n",
      " [47.48120861]\n",
      " [58.16847072]\n",
      " [36.43600951]\n",
      " [41.37772653]\n",
      " [53.57507753]\n",
      " [50.28283635]\n",
      " [57.5045333 ]\n",
      " [60.29732685]\n",
      " [53.69163957]\n",
      " [43.31828263]\n",
      " [34.3331247 ]\n",
      " [41.57564262]\n",
      " [35.67809389]\n",
      " [44.21174175]\n",
      " [56.9012147 ]\n",
      " [44.50253806]\n",
      " [44.49285588]\n",
      " [59.81320787]\n",
      " [38.11982403]\n",
      " [43.10782022]\n",
      " [40.59953838]\n",
      " [25.12848465]\n",
      " [65.41605175]\n",
      " [53.42680403]\n",
      " [48.14985889]\n",
      " [56.72720806]\n",
      " [58.16454011]\n",
      " [57.31000344]\n",
      " [66.18981661]\n",
      " [32.94047994]\n",
      " [32.50234527]\n",
      " [38.00548801]\n",
      " [51.84518691]\n",
      " [33.86421497]]\n"
     ]
    }
   ],
   "source": [
    "print(train_1d)\n",
    "print(x_train)"
   ]
  },
  {
   "cell_type": "markdown",
   "id": "27363345",
   "metadata": {},
   "source": [
    "# Coefficient of Determination"
   ]
  },
  {
   "cell_type": "code",
   "execution_count": 14,
   "id": "c5c51486",
   "metadata": {},
   "outputs": [
    {
     "data": {
      "text/plain": [
       "(0.5903625836206245, 0.6002146390575918)"
      ]
     },
     "execution_count": 14,
     "metadata": {},
     "output_type": "execute_result"
    }
   ],
   "source": [
    "score_test=alg1.score(x_test,y_test) \n",
    "score_train=alg1.score(x_train,y_train)\n",
    "score_test,score_train"
   ]
  },
  {
   "cell_type": "markdown",
   "id": "83bfcddb",
   "metadata": {},
   "source": [
    "# Coding Linear Regression"
   ]
  },
  {
   "cell_type": "code",
   "execution_count": 34,
   "id": "1c056a4c",
   "metadata": {},
   "outputs": [],
   "source": [
    "import numpy as np"
   ]
  },
  {
   "cell_type": "code",
   "execution_count": 35,
   "id": "759ba754",
   "metadata": {},
   "outputs": [],
   "source": [
    "data=np.loadtxt(\"data.csv\", delimiter=\",\")"
   ]
  },
  {
   "cell_type": "code",
   "execution_count": 36,
   "id": "ea2970b8",
   "metadata": {},
   "outputs": [],
   "source": [
    "x=data[:,0]\n",
    "y=data[:,1]"
   ]
  },
  {
   "cell_type": "code",
   "execution_count": 37,
   "id": "33629122",
   "metadata": {},
   "outputs": [
    {
     "data": {
      "text/plain": [
       "(100,)"
      ]
     },
     "execution_count": 37,
     "metadata": {},
     "output_type": "execute_result"
    }
   ],
   "source": [
    "x.shape"
   ]
  },
  {
   "cell_type": "code",
   "execution_count": 55,
   "id": "d682a184",
   "metadata": {},
   "outputs": [
    {
     "data": {
      "text/plain": [
       "(70,)"
      ]
     },
     "execution_count": 55,
     "metadata": {},
     "output_type": "execute_result"
    }
   ],
   "source": [
    "from sklearn import model_selection\n",
    "x_train,x_test,y_train,y_test=model_selection.train_test_split(x,y,test_size=0.3)\n",
    "y_train.shape"
   ]
  },
  {
   "cell_type": "code",
   "execution_count": 29,
   "id": "1242635e",
   "metadata": {},
   "outputs": [],
   "source": [
    "def fit(x_train,y_train):\n",
    "    num=(x_train * y_train).mean() - x_train.mean()*y_train.mean()\n",
    "    den= (x_train**2).mean() - x_train.mean()**2\n",
    "    m=num/den\n",
    "    c=y_train.mean() - m*x_train.mean()\n",
    "    return m,c"
   ]
  },
  {
   "cell_type": "code",
   "execution_count": 42,
   "id": "49199317",
   "metadata": {},
   "outputs": [],
   "source": [
    "def predict(x,m,c):\n",
    "    return m * x +c\n",
    "\n",
    "def score(y_truth, y_pred):\n",
    "    u=((y_truth - y_pred)**2).sum()\n",
    "    v=((y_truth - y_truth.mean())**2).sum()\n",
    "    return 1 - u/v\n",
    "\n",
    "def cost(x,y,m,c):\n",
    "    ((y-m*x -c)**2).mean()"
   ]
  },
  {
   "cell_type": "code",
   "execution_count": 57,
   "id": "01e7914d",
   "metadata": {},
   "outputs": [
    {
     "name": "stdout",
     "output_type": "stream",
     "text": [
      "1.360009979681841 7.079477877028765\n"
     ]
    }
   ],
   "source": [
    "m,c=fit(x_train,y_train)\n",
    "\n",
    "print(m,c)\n"
   ]
  },
  {
   "cell_type": "code",
   "execution_count": 63,
   "id": "f6d26c7f",
   "metadata": {},
   "outputs": [
    {
     "data": {
      "text/plain": [
       "array([ 97.91982104,  80.20752314, 104.25710159,  61.68403752,\n",
       "        79.05240617,  83.14274979,  71.54663223,  90.12357207,\n",
       "        70.25193442,  79.55043668,  95.22936602,  84.74269781,\n",
       "        65.56230126,  44.84712424,  62.00892325,  82.47884676,\n",
       "        59.35885025,  79.12064627,  74.08413012,  59.10883927,\n",
       "        97.37989686,  87.99445276,  48.84715332,  76.61734128,\n",
       "        81.43619216,  57.81251298,  86.09829121,  75.38065167,\n",
       "        83.43207142,  85.49806778,  55.16567715,  82.89250373,\n",
       "        53.45439421,  75.39287043,  71.13972786,  69.58889785,\n",
       "        79.64197305,  99.05141484,  50.39267014, 115.2441528 ,\n",
       "       118.5912173 ,  79.10282968,  72.11183247,  85.23200734,\n",
       "        96.76956643,  77.63418251,  52.68298337,  95.53668685,\n",
       "        54.0840548 ,  95.45505292,  44.86249071,  65.10171157,\n",
       "        85.66820315,  52.72173496,  62.5623823 ,  52.72549438,\n",
       "        69.51050331,  73.68756432,  72.24725107,  63.35879032,\n",
       "       114.85387123,  55.23166089,  67.17065577,  93.57611869,\n",
       "        58.56982472,  68.77759598,  78.21151827,  60.72360244,\n",
       "        80.16627545,  65.28088692])"
      ]
     },
     "execution_count": 63,
     "metadata": {},
     "output_type": "execute_result"
    }
   ],
   "source": []
  },
  {
   "cell_type": "code",
   "execution_count": 64,
   "id": "7ef359d3",
   "metadata": {},
   "outputs": [
    {
     "ename": "UFuncTypeError",
     "evalue": "ufunc 'subtract' did not contain a loop with signature matching types (dtype('<U12'), dtype('float64')) -> None",
     "output_type": "error",
     "traceback": [
      "\u001b[1;31m---------------------------------------------------------------------------\u001b[0m",
      "\u001b[1;31mUFuncTypeError\u001b[0m                            Traceback (most recent call last)",
      "Input \u001b[1;32mIn [64]\u001b[0m, in \u001b[0;36m<module>\u001b[1;34m\u001b[0m\n\u001b[0;32m      2\u001b[0m y_train_pred \u001b[38;5;241m=\u001b[39m predict(x_train,m,c)\n\u001b[0;32m      3\u001b[0m y_train_pred\n\u001b[1;32m----> 4\u001b[0m \u001b[43mscore\u001b[49m\u001b[43m(\u001b[49m\u001b[38;5;124;43m\"\u001b[39;49m\u001b[38;5;124;43mTrain score:\u001b[39;49m\u001b[38;5;124;43m\"\u001b[39;49m\u001b[43m,\u001b[49m\u001b[43mscore\u001b[49m\u001b[43m(\u001b[49m\u001b[43my_train\u001b[49m\u001b[43m \u001b[49m\u001b[43m,\u001b[49m\u001b[43my_train_pred\u001b[49m\u001b[43m)\u001b[49m\u001b[43m)\u001b[49m\n",
      "Input \u001b[1;32mIn [42]\u001b[0m, in \u001b[0;36mscore\u001b[1;34m(y_truth, y_pred)\u001b[0m\n\u001b[0;32m      4\u001b[0m \u001b[38;5;28;01mdef\u001b[39;00m \u001b[38;5;21mscore\u001b[39m(y_truth,y_pred):\n\u001b[1;32m----> 5\u001b[0m     u\u001b[38;5;241m=\u001b[39m((\u001b[43my_truth\u001b[49m\u001b[43m \u001b[49m\u001b[38;5;241;43m-\u001b[39;49m\u001b[43m \u001b[49m\u001b[43my_pred\u001b[49m)\u001b[38;5;241m*\u001b[39m\u001b[38;5;241m*\u001b[39m\u001b[38;5;241m2\u001b[39m)\u001b[38;5;241m.\u001b[39msum()\n\u001b[0;32m      6\u001b[0m     v\u001b[38;5;241m=\u001b[39m((y_truth \u001b[38;5;241m-\u001b[39m y_truth\u001b[38;5;241m.\u001b[39mmean())\u001b[38;5;241m*\u001b[39m\u001b[38;5;241m*\u001b[39m\u001b[38;5;241m2\u001b[39m)\u001b[38;5;241m.\u001b[39msum()\n\u001b[0;32m      7\u001b[0m     \u001b[38;5;28;01mreturn\u001b[39;00m \u001b[38;5;241m1\u001b[39m \u001b[38;5;241m-\u001b[39m u\u001b[38;5;241m/\u001b[39mv\n",
      "\u001b[1;31mUFuncTypeError\u001b[0m: ufunc 'subtract' did not contain a loop with signature matching types (dtype('<U12'), dtype('float64')) -> None"
     ]
    }
   ],
   "source": [
    "#train data\n",
    "y_train_pred = predict(x_train,m,c)\n",
    "y_train_pred\n",
    "score(\"Train score:\",score(y_train ,y_train_pred))"
   ]
  },
  {
   "cell_type": "code",
   "execution_count": 53,
   "id": "b212ad19",
   "metadata": {},
   "outputs": [
    {
     "name": "stdout",
     "output_type": "stream",
     "text": [
      "M,C 1.3684463340905884 5.550985311755838\n",
      "Cost on training data None\n"
     ]
    }
   ],
   "source": [
    "print(\"M,C\", m,c)\n",
    "print(\"Cost on training data\",cost(x_train,y_train,m,c))"
   ]
  },
  {
   "cell_type": "code",
   "execution_count": 54,
   "id": "eb527faa",
   "metadata": {},
   "outputs": [
    {
     "name": "stdout",
     "output_type": "stream",
     "text": [
      "Test score 0.5250353382126454\n"
     ]
    }
   ],
   "source": [
    "#test data\n",
    "y_test_pred=predict(x_test,m,c)\n",
    "print(\"Test score\" ,score(y_test , y_test_pred))"
   ]
  }
 ],
 "metadata": {
  "kernelspec": {
   "display_name": "Python 3 (ipykernel)",
   "language": "python",
   "name": "python3"
  },
  "language_info": {
   "codemirror_mode": {
    "name": "ipython",
    "version": 3
   },
   "file_extension": ".py",
   "mimetype": "text/x-python",
   "name": "python",
   "nbconvert_exporter": "python",
   "pygments_lexer": "ipython3",
   "version": "3.10.0"
  }
 },
 "nbformat": 4,
 "nbformat_minor": 5
}
