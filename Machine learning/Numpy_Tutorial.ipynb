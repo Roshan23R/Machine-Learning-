{
 "cells": [
  {
   "cell_type": "code",
   "execution_count": 2,
   "id": "7b657f1c",
   "metadata": {},
   "outputs": [
    {
     "name": "stdout",
     "output_type": "stream",
     "text": [
      "[1 2 3 4]\n",
      "<class 'numpy.ndarray'>\n"
     ]
    }
   ],
   "source": [
    "import numpy as np\n",
    "\n",
    "a=[1,2,3,4]\n",
    "b=np.array(a)\n",
    "print(b)\n",
    "print(type(b))"
   ]
  },
  {
   "cell_type": "code",
   "execution_count": 6,
   "id": "18116114",
   "metadata": {},
   "outputs": [
    {
     "name": "stdout",
     "output_type": "stream",
     "text": [
      "['1' '2' '3' '4' '5' '4.5']\n"
     ]
    }
   ],
   "source": [
    "a=[1,2,3,4,'5',4.5]\n",
    "b=np.array(a,dtype=str)\n",
    "print(b)"
   ]
  },
  {
   "cell_type": "code",
   "execution_count": 8,
   "id": "b21f00d0",
   "metadata": {},
   "outputs": [
    {
     "name": "stdout",
     "output_type": "stream",
     "text": [
      "['1' '2' '3' '4' '5' '4.5' '1' '2' '3' '4' '5' '4.5' '1' '2' '3' '4' '5'\n",
      " '4.5']\n"
     ]
    }
   ],
   "source": [
    "a=[1,2,3,4,'5',4.5]\n",
    "b=np.array(a*3)\n",
    "print(b)"
   ]
  },
  {
   "cell_type": "code",
   "execution_count": 14,
   "id": "c1d481b8",
   "metadata": {},
   "outputs": [
    {
     "name": "stdout",
     "output_type": "stream",
     "text": [
      "[1 1 1]\n"
     ]
    }
   ],
   "source": [
    "c=np.ones(3,dtype=int)\n",
    "print(c)\n"
   ]
  },
  {
   "cell_type": "code",
   "execution_count": 18,
   "id": "5246d1a6",
   "metadata": {},
   "outputs": [
    {
     "data": {
      "text/plain": [
       "array([[0, 0, 0, 0],\n",
       "       [0, 0, 0, 0],\n",
       "       [0, 0, 0, 0]])"
      ]
     },
     "execution_count": 18,
     "metadata": {},
     "output_type": "execute_result"
    }
   ],
   "source": [
    "d=np.zeros((3,4),dtype=int)\n",
    "d\n"
   ]
  },
  {
   "cell_type": "code",
   "execution_count": 21,
   "id": "06d047a2",
   "metadata": {},
   "outputs": [
    {
     "data": {
      "text/plain": [
       "array([5., 5., 5.])"
      ]
     },
     "execution_count": 21,
     "metadata": {},
     "output_type": "execute_result"
    }
   ],
   "source": [
    "e=np.full(3,5 ,dtype=float)\n",
    "e"
   ]
  },
  {
   "cell_type": "code",
   "execution_count": 24,
   "id": "2134aebc",
   "metadata": {},
   "outputs": [
    {
     "data": {
      "text/plain": [
       "array([0, 1, 2, 3, 4, 5, 6, 7, 8, 9])"
      ]
     },
     "execution_count": 24,
     "metadata": {},
     "output_type": "execute_result"
    }
   ],
   "source": [
    "f=np.arange(10)\n",
    "f"
   ]
  },
  {
   "cell_type": "code",
   "execution_count": 27,
   "id": "ae5174f8",
   "metadata": {},
   "outputs": [
    {
     "data": {
      "text/plain": [
       "array([ 2,  4,  6,  8, 10, 12, 14, 16, 18])"
      ]
     },
     "execution_count": 27,
     "metadata": {},
     "output_type": "execute_result"
    }
   ],
   "source": [
    "g=np.arange(2,20,2)\n",
    "g"
   ]
  },
  {
   "cell_type": "code",
   "execution_count": 30,
   "id": "9c1cc672",
   "metadata": {},
   "outputs": [
    {
     "name": "stdout",
     "output_type": "stream",
     "text": [
      "0.16326530612244916\n",
      "0.16326530612244872\n"
     ]
    }
   ],
   "source": [
    "h=np.linspace(2,10)\n",
    "h\n",
    "print(h[1]-h[0])\n",
    "print(h[2]-h[1])"
   ]
  },
  {
   "cell_type": "code",
   "execution_count": 34,
   "id": "c73372c3",
   "metadata": {},
   "outputs": [
    {
     "data": {
      "text/plain": [
       "array([2, 3, 5, 6, 8])"
      ]
     },
     "execution_count": 34,
     "metadata": {},
     "output_type": "execute_result"
    }
   ],
   "source": [
    "i=np.linspace(2,10,5,dtype=int,endpoint=False)\n",
    "i"
   ]
  },
  {
   "cell_type": "code",
   "execution_count": 36,
   "id": "f7464121",
   "metadata": {},
   "outputs": [
    {
     "data": {
      "text/plain": [
       "array([[1., 0., 0.],\n",
       "       [0., 1., 0.],\n",
       "       [0., 0., 1.]])"
      ]
     },
     "execution_count": 36,
     "metadata": {},
     "output_type": "execute_result"
    }
   ],
   "source": [
    "j=np.identity(3)\n",
    "j"
   ]
  },
  {
   "cell_type": "code",
   "execution_count": 39,
   "id": "fe4098b4",
   "metadata": {},
   "outputs": [
    {
     "data": {
      "text/plain": [
       "array([[1., 0., 0., 0., 0.],\n",
       "       [0., 1., 0., 0., 0.],\n",
       "       [0., 0., 1., 0., 0.]])"
      ]
     },
     "execution_count": 39,
     "metadata": {},
     "output_type": "execute_result"
    }
   ],
   "source": [
    "k=np.eye(3,5)\n",
    "k"
   ]
  },
  {
   "cell_type": "code",
   "execution_count": 50,
   "id": "f9b842e3",
   "metadata": {},
   "outputs": [
    {
     "data": {
      "text/plain": [
       "array([0.90986134, 0.76566598, 0.19940265])"
      ]
     },
     "execution_count": 50,
     "metadata": {},
     "output_type": "execute_result"
    }
   ],
   "source": [
    "l=np.random.rand(3)\n",
    "l"
   ]
  },
  {
   "cell_type": "code",
   "execution_count": 53,
   "id": "558b98e3",
   "metadata": {},
   "outputs": [
    {
     "data": {
      "text/plain": [
       "array([[0.05564366, 0.07461711, 0.14944752],\n",
       "       [0.38728256, 0.79485982, 0.30435849]])"
      ]
     },
     "execution_count": 53,
     "metadata": {},
     "output_type": "execute_result"
    }
   ],
   "source": [
    "m=np.random.rand(2,3)\n",
    "m"
   ]
  },
  {
   "cell_type": "code",
   "execution_count": 57,
   "id": "3c33b31c",
   "metadata": {},
   "outputs": [
    {
     "data": {
      "text/plain": [
       "array([3.38283645, 4.21608283, 3.2986877 , 4.12424342, 5.29266751,\n",
       "       6.36307144, 8.61704085, 4.84252529, 7.04189963, 8.89929622])"
      ]
     },
     "execution_count": 57,
     "metadata": {},
     "output_type": "execute_result"
    }
   ],
   "source": [
    "n=np.random.rand(10)*10\n",
    "n"
   ]
  },
  {
   "cell_type": "code",
   "execution_count": 58,
   "id": "f37ab494",
   "metadata": {},
   "outputs": [],
   "source": [
    "# Indexing and Slicing"
   ]
  },
  {
   "cell_type": "code",
   "execution_count": 60,
   "id": "e75f4d5c",
   "metadata": {},
   "outputs": [
    {
     "name": "stdout",
     "output_type": "stream",
     "text": [
      "[1 2 3 4 5]\n"
     ]
    }
   ],
   "source": [
    "li=[1,2,3,4,5]\n",
    "arr=np.array(li)\n",
    "print(arr)"
   ]
  },
  {
   "cell_type": "code",
   "execution_count": 73,
   "id": "3791c736",
   "metadata": {},
   "outputs": [
    {
     "name": "stdout",
     "output_type": "stream",
     "text": [
      "<memory at 0x0000023120C225C0>\n",
      "(5,)\n",
      "int32\n",
      "(4,)\n"
     ]
    }
   ],
   "source": [
    "print(arr.data)\n",
    "print(arr.shape)\n",
    "print(arr.dtype)\n",
    "print(arr.strides)"
   ]
  },
  {
   "cell_type": "code",
   "execution_count": 75,
   "id": "6ce3af6d",
   "metadata": {},
   "outputs": [
    {
     "name": "stdout",
     "output_type": "stream",
     "text": [
      "4\n",
      "[2 3 4]\n"
     ]
    }
   ],
   "source": [
    "print(arr[3])\n",
    "print(arr[1:4])"
   ]
  },
  {
   "cell_type": "code",
   "execution_count": 65,
   "id": "83b1e575",
   "metadata": {},
   "outputs": [
    {
     "name": "stdout",
     "output_type": "stream",
     "text": [
      "[[1 1 1 1]\n",
      " [2 2 2 2]\n",
      " [3 3 3 3]]\n"
     ]
    }
   ],
   "source": [
    "li_2d=[[1,1,1,1],[2,2,2,2],[3,3,3,3]]\n",
    "arr_2d=np.array(li_2d)\n",
    "print(arr_2d)"
   ]
  },
  {
   "cell_type": "code",
   "execution_count": 67,
   "id": "4b532a22",
   "metadata": {},
   "outputs": [
    {
     "name": "stdout",
     "output_type": "stream",
     "text": [
      "<memory at 0x0000023120898AD0>\n"
     ]
    }
   ],
   "source": [
    "print(arr_2d.data)"
   ]
  },
  {
   "cell_type": "code",
   "execution_count": 69,
   "id": "2a694653",
   "metadata": {},
   "outputs": [
    {
     "name": "stdout",
     "output_type": "stream",
     "text": [
      "(3, 4)\n"
     ]
    }
   ],
   "source": [
    "print(arr_2d.shape)"
   ]
  },
  {
   "cell_type": "code",
   "execution_count": 71,
   "id": "38e1526a",
   "metadata": {},
   "outputs": [
    {
     "name": "stdout",
     "output_type": "stream",
     "text": [
      "int32\n"
     ]
    }
   ],
   "source": [
    "print(arr_2d.dtype)"
   ]
  },
  {
   "cell_type": "code",
   "execution_count": 77,
   "id": "744ad7fc",
   "metadata": {},
   "outputs": [
    {
     "name": "stdout",
     "output_type": "stream",
     "text": [
      "(16, 4)\n"
     ]
    }
   ],
   "source": [
    "print(arr_2d.strides)"
   ]
  },
  {
   "cell_type": "code",
   "execution_count": 80,
   "id": "185af5a3",
   "metadata": {},
   "outputs": [
    {
     "name": "stdout",
     "output_type": "stream",
     "text": [
      "2\n",
      "3\n"
     ]
    }
   ],
   "source": [
    "print(arr_2d[1][1])\n",
    "print(arr_2d[2,1])"
   ]
  },
  {
   "cell_type": "code",
   "execution_count": 83,
   "id": "5a2ec1d9",
   "metadata": {},
   "outputs": [
    {
     "name": "stdout",
     "output_type": "stream",
     "text": [
      "[2, 2, 2]\n",
      "[2 2 2]\n"
     ]
    }
   ],
   "source": [
    "#Slicing in 2_d array\n",
    "print(li_2d[1][:3])\n",
    "print(arr_2d[1][:3])"
   ]
  },
  {
   "cell_type": "code",
   "execution_count": 85,
   "id": "5e209d2d",
   "metadata": {},
   "outputs": [
    {
     "name": "stdout",
     "output_type": "stream",
     "text": [
      "[3, 3, 3, 3]\n"
     ]
    }
   ],
   "source": [
    "print(li_2d[:3][2])"
   ]
  },
  {
   "cell_type": "code",
   "execution_count": 88,
   "id": "c536bc1c",
   "metadata": {},
   "outputs": [
    {
     "name": "stdout",
     "output_type": "stream",
     "text": [
      "[[1, 1, 1, 1], [2, 2, 2, 2], [3, 3, 3, 3]]\n",
      "[3, 3, 3, 3]\n"
     ]
    }
   ],
   "source": [
    "x=li_2d[0:3]\n",
    "print(x)\n",
    "y=x[2]\n",
    "print(y)"
   ]
  },
  {
   "cell_type": "code",
   "execution_count": 96,
   "id": "c5850f9b",
   "metadata": {},
   "outputs": [
    {
     "name": "stdout",
     "output_type": "stream",
     "text": [
      "[1 2 3]\n"
     ]
    }
   ],
   "source": [
    "print(arr_2d[0:3, 1])"
   ]
  },
  {
   "cell_type": "code",
   "execution_count": 98,
   "id": "4b48e0c6",
   "metadata": {},
   "outputs": [
    {
     "name": "stdout",
     "output_type": "stream",
     "text": [
      "[[1 1]\n",
      " [2 2]\n",
      " [3 3]]\n"
     ]
    }
   ],
   "source": [
    "print(arr_2d[0:3,1:3])"
   ]
  },
  {
   "cell_type": "code",
   "execution_count": 103,
   "id": "c93c204e",
   "metadata": {},
   "outputs": [
    {
     "name": "stdout",
     "output_type": "stream",
     "text": [
      "[1, 2, 3, 4, 5]\n",
      "[16  7 10 15 17]\n",
      "[11 15 15 10  1]\n"
     ]
    }
   ],
   "source": [
    "#Mathematical Operations\n",
    "import numpy as np\n",
    "li=[1,2,3,4,5]\n",
    "a=np.random.randint(1,20,5)\n",
    "b=np.random.randint(1,20,5)\n",
    "print(li)\n",
    "print(a)\n",
    "print(b)"
   ]
  },
  {
   "cell_type": "code",
   "execution_count": 105,
   "id": "41202cb1",
   "metadata": {},
   "outputs": [
    {
     "data": {
      "text/plain": [
       "[3, 4, 5, 6, 7]"
      ]
     },
     "execution_count": 105,
     "metadata": {},
     "output_type": "execute_result"
    }
   ],
   "source": [
    "li=[i+1 for i in li]\n",
    "li"
   ]
  },
  {
   "cell_type": "code",
   "execution_count": 106,
   "id": "34d528e3",
   "metadata": {},
   "outputs": [
    {
     "data": {
      "text/plain": [
       "array([17,  8, 11, 16, 18])"
      ]
     },
     "execution_count": 106,
     "metadata": {},
     "output_type": "execute_result"
    }
   ],
   "source": [
    "a=a+1\n",
    "a\n"
   ]
  },
  {
   "cell_type": "code",
   "execution_count": 109,
   "id": "91dd0d1c",
   "metadata": {},
   "outputs": [
    {
     "data": {
      "text/plain": [
       "array([28, 23, 26, 26, 19])"
      ]
     },
     "execution_count": 109,
     "metadata": {},
     "output_type": "execute_result"
    }
   ],
   "source": [
    "c=a+b\n",
    "c"
   ]
  },
  {
   "cell_type": "code",
   "execution_count": 111,
   "id": "83d45335",
   "metadata": {},
   "outputs": [
    {
     "data": {
      "text/plain": [
       "array([187, 120, 165, 160,  18])"
      ]
     },
     "execution_count": 111,
     "metadata": {},
     "output_type": "execute_result"
    }
   ],
   "source": [
    "c=a*b\n",
    "c"
   ]
  },
  {
   "cell_type": "code",
   "execution_count": 113,
   "id": "85a9e755",
   "metadata": {},
   "outputs": [
    {
     "data": {
      "text/plain": [
       "array([ 1,  0,  0,  1, 18])"
      ]
     },
     "execution_count": 113,
     "metadata": {},
     "output_type": "execute_result"
    }
   ],
   "source": [
    "g=a//b\n",
    "g"
   ]
  },
  {
   "cell_type": "code",
   "execution_count": 117,
   "id": "d175e652",
   "metadata": {},
   "outputs": [
    {
     "data": {
      "text/plain": [
       "array([-1942714447,           0,  1632031715,           0,          18])"
      ]
     },
     "execution_count": 117,
     "metadata": {},
     "output_type": "execute_result"
    }
   ],
   "source": [
    "h=a**b\n",
    "h"
   ]
  },
  {
   "cell_type": "code",
   "execution_count": 122,
   "id": "0a458c20",
   "metadata": {},
   "outputs": [
    {
     "name": "stdout",
     "output_type": "stream",
     "text": [
      "[17  8 11 16 18]\n",
      "70\n",
      "14.0\n",
      "8\n",
      "1\n",
      "4\n"
     ]
    }
   ],
   "source": [
    "print(a)\n",
    "print(a.sum())\n",
    "print(a.mean())\n",
    "print(a.min())\n",
    "print(a.argmin())\n",
    "print(a.argmax())"
   ]
  },
  {
   "cell_type": "code",
   "execution_count": 125,
   "id": "12d3ac48",
   "metadata": {},
   "outputs": [
    {
     "name": "stdout",
     "output_type": "stream",
     "text": [
      "[17  8 11 16 18]\n",
      "[11 15 15 10  1]\n"
     ]
    }
   ],
   "source": [
    "print(a)\n",
    "print(b)"
   ]
  },
  {
   "cell_type": "code",
   "execution_count": 127,
   "id": "62b6b851",
   "metadata": {},
   "outputs": [
    {
     "data": {
      "text/plain": [
       "array([ True, False, False,  True,  True])"
      ]
     },
     "execution_count": 127,
     "metadata": {},
     "output_type": "execute_result"
    }
   ],
   "source": [
    "a>b"
   ]
  },
  {
   "cell_type": "code",
   "execution_count": 129,
   "id": "81b89915",
   "metadata": {},
   "outputs": [
    {
     "data": {
      "text/plain": [
       "array([False,  True,  True, False, False])"
      ]
     },
     "execution_count": 129,
     "metadata": {},
     "output_type": "execute_result"
    }
   ],
   "source": [
    "a<b"
   ]
  },
  {
   "cell_type": "code",
   "execution_count": 131,
   "id": "ef5ef87d",
   "metadata": {},
   "outputs": [
    {
     "data": {
      "text/plain": [
       "array([False, False, False, False, False])"
      ]
     },
     "execution_count": 131,
     "metadata": {},
     "output_type": "execute_result"
    }
   ],
   "source": [
    "a==b"
   ]
  },
  {
   "cell_type": "code",
   "execution_count": 133,
   "id": "181fc0eb",
   "metadata": {},
   "outputs": [
    {
     "name": "stdout",
     "output_type": "stream",
     "text": [
      "[ True  True  True  True  True]\n"
     ]
    }
   ],
   "source": [
    "print(np.logical_or(a,b))"
   ]
  },
  {
   "cell_type": "code",
   "execution_count": 135,
   "id": "7fdf16d7",
   "metadata": {},
   "outputs": [
    {
     "name": "stdout",
     "output_type": "stream",
     "text": [
      "[ True  True  True  True  True]\n"
     ]
    }
   ],
   "source": [
    "print(np.logical_and(a,b))"
   ]
  },
  {
   "cell_type": "code",
   "execution_count": 137,
   "id": "90d82833",
   "metadata": {},
   "outputs": [
    {
     "name": "stdout",
     "output_type": "stream",
     "text": [
      "[False False False False False]\n"
     ]
    }
   ],
   "source": [
    "print(np.logical_xor(a,b))"
   ]
  },
  {
   "cell_type": "code",
   "execution_count": 139,
   "id": "4055392f",
   "metadata": {},
   "outputs": [
    {
     "name": "stdout",
     "output_type": "stream",
     "text": [
      "[False False False False False]\n"
     ]
    }
   ],
   "source": [
    "print(np.logical_not(a))"
   ]
  },
  {
   "cell_type": "code",
   "execution_count": 141,
   "id": "48d792ed",
   "metadata": {},
   "outputs": [
    {
     "name": "stdout",
     "output_type": "stream",
     "text": [
      "[[1 1 1 1]\n",
      " [2 2 2 2]\n",
      " [3 3 3 3]]\n"
     ]
    }
   ],
   "source": [
    "print(arr_2d)"
   ]
  },
  {
   "cell_type": "code",
   "execution_count": 148,
   "id": "204c5530",
   "metadata": {},
   "outputs": [
    {
     "name": "stdout",
     "output_type": "stream",
     "text": [
      "False\n",
      "[False False]\n",
      "[False False False False]\n"
     ]
    }
   ],
   "source": [
    "print(np.logical_xor(arr_2d[1][1],arr_2d[1][2]))\n",
    "print(np.logical_xor(arr_2d[:2,1],arr_2d[:2,2]))\n",
    "print(np.logical_xor(arr_2d[1,:4],arr_2d[2,:4]))"
   ]
  },
  {
   "cell_type": "code",
   "execution_count": 158,
   "id": "a46990b6",
   "metadata": {},
   "outputs": [
    {
     "name": "stdout",
     "output_type": "stream",
     "text": [
      "[12  3  4  8 18 11 14 19]\n",
      "[ True False False False  True  True  True  True]\n",
      "[ True False False False  True  True  True  True]\n",
      "[12 18 11 14 19]\n"
     ]
    }
   ],
   "source": [
    "#BOOLean Indexing\n",
    "z=np.random.randint(1,20,8)\n",
    "print(z)\n",
    "print(z>10)\n",
    "\n",
    "#Accessing elements greater than 10\n",
    "bool_arr= z>10\n",
    "print(bool_arr)\n",
    "new_arr=z[bool_arr]\n",
    "print(new_arr)\n"
   ]
  },
  {
   "cell_type": "code",
   "execution_count": 161,
   "id": "aef9e83a",
   "metadata": {},
   "outputs": [
    {
     "name": "stdout",
     "output_type": "stream",
     "text": [
      "[12 18 11 14 19]\n"
     ]
    }
   ],
   "source": [
    "new_arr=z[z>10]\n",
    "print(new_arr)"
   ]
  },
  {
   "cell_type": "code",
   "execution_count": 166,
   "id": "5c4d3398",
   "metadata": {},
   "outputs": [
    {
     "name": "stdout",
     "output_type": "stream",
     "text": [
      "[12 11 14]\n"
     ]
    }
   ],
   "source": [
    "new_arr=z[(z>10)& (z<15)]\n",
    "print(new_arr)"
   ]
  },
  {
   "cell_type": "code",
   "execution_count": 169,
   "id": "08acfbe5",
   "metadata": {},
   "outputs": [
    {
     "name": "stdout",
     "output_type": "stream",
     "text": [
      "[17  8 11 16 18]\n"
     ]
    },
    {
     "data": {
      "text/plain": [
       "array([17,  8, 11, 16, 18])"
      ]
     },
     "execution_count": 169,
     "metadata": {},
     "output_type": "execute_result"
    }
   ],
   "source": [
    "print(a)\n",
    "c=a\n",
    "c"
   ]
  },
  {
   "cell_type": "code",
   "execution_count": 172,
   "id": "49c52cc8",
   "metadata": {},
   "outputs": [
    {
     "name": "stdout",
     "output_type": "stream",
     "text": [
      "[19 19 19 16 18]\n",
      "[100 100 100  16 100]\n"
     ]
    }
   ],
   "source": [
    "c[:3]=19\n",
    "print(c)\n",
    "c[c>17]=100\n",
    "print(c)"
   ]
  },
  {
   "cell_type": "code",
   "execution_count": 175,
   "id": "deea7194",
   "metadata": {},
   "outputs": [
    {
     "name": "stdout",
     "output_type": "stream",
     "text": [
      "[100 100 100 100]\n"
     ]
    },
    {
     "data": {
      "text/plain": [
       "(array([0, 1, 2, 4], dtype=int64),)"
      ]
     },
     "execution_count": 175,
     "metadata": {},
     "output_type": "execute_result"
    }
   ],
   "source": [
    "print(c[c==100])\n",
    "ind=np.where(c==100)\n",
    "ind"
   ]
  },
  {
   "cell_type": "code",
   "execution_count": 181,
   "id": "e55d5dba",
   "metadata": {},
   "outputs": [
    {
     "name": "stdout",
     "output_type": "stream",
     "text": [
      "[100 100 100  16 100]\n",
      "[11 15 15 10  1]\n",
      "[11 15 15  1]\n"
     ]
    }
   ],
   "source": [
    "print(a)\n",
    "print(b)\n",
    "print(b[ind])"
   ]
  },
  {
   "cell_type": "code",
   "execution_count": 189,
   "id": "14f3940c",
   "metadata": {},
   "outputs": [
    {
     "data": {
      "text/plain": [
       "array([[29, 22, 38,  8, 35, 27],\n",
       "       [20,  5,  8, 18,  3, 31],\n",
       "       [16, 16, 11,  2, 17, 23],\n",
       "       [19,  9, 22, 25, 10, 36],\n",
       "       [34, 28,  1,  2, 16, 21]])"
      ]
     },
     "execution_count": 189,
     "metadata": {},
     "output_type": "execute_result"
    }
   ],
   "source": [
    "a=np.random.randint(1,40,(5,6))\n",
    "a"
   ]
  },
  {
   "cell_type": "code",
   "execution_count": 190,
   "id": "81d3ea7f",
   "metadata": {},
   "outputs": [
    {
     "name": "stdout",
     "output_type": "stream",
     "text": [
      "[[ True  True  True False  True  True]\n",
      " [False False False False False  True]\n",
      " [False False False False False  True]\n",
      " [False False  True  True False  True]\n",
      " [ True  True False False False  True]]\n"
     ]
    }
   ],
   "source": [
    "bool_arr=a>20\n",
    "print(bool_arr)"
   ]
  },
  {
   "cell_type": "code",
   "execution_count": 196,
   "id": "d81b4634",
   "metadata": {},
   "outputs": [
    {
     "name": "stdout",
     "output_type": "stream",
     "text": [
      "[29 22 38 35 27 31 23 22 25 36 34 28 21]\n"
     ]
    }
   ],
   "source": [
    "ans=a[bool_arr]\n",
    "print(ans)"
   ]
  },
  {
   "cell_type": "code",
   "execution_count": 198,
   "id": "fd7af95e",
   "metadata": {},
   "outputs": [
    {
     "name": "stdout",
     "output_type": "stream",
     "text": [
      "[[29 22 38  8 35 27]\n",
      " [20  5  8 18  3 31]\n",
      " [16 16 11  2 17 23]\n",
      " [19  9 22 25 10 36]\n",
      " [34 28  1  2 16 21]]\n"
     ]
    }
   ],
   "source": [
    "c=a\n",
    "print(c)\n"
   ]
  },
  {
   "cell_type": "code",
   "execution_count": 201,
   "id": "efbe6e4b",
   "metadata": {},
   "outputs": [
    {
     "name": "stdout",
     "output_type": "stream",
     "text": [
      "[[100 100 100   8 100 100]\n",
      " [ 20   5   8  18   3 100]\n",
      " [ 16  16  11   2  17 100]\n",
      " [ 19   9 100 100  10 100]\n",
      " [100 100   1   2  16 100]]\n"
     ]
    }
   ],
   "source": [
    "c[bool_arr]=100\n",
    "print(c)"
   ]
  },
  {
   "cell_type": "code",
   "execution_count": 203,
   "id": "ee469912",
   "metadata": {},
   "outputs": [
    {
     "name": "stdout",
     "output_type": "stream",
     "text": [
      "[[7 4]\n",
      " [6 1]]\n"
     ]
    }
   ],
   "source": [
    "d=np.random.randint(1,10,(2,2))\n",
    "print(d)"
   ]
  },
  {
   "cell_type": "code",
   "execution_count": 208,
   "id": "f90e31d8",
   "metadata": {},
   "outputs": [
    {
     "name": "stdout",
     "output_type": "stream",
     "text": [
      "[[ True False]\n",
      " [False  True]\n",
      " [ True  True]]\n"
     ]
    }
   ],
   "source": [
    "d_bool=np.array([[True,False],[False,True],[True,True]])\n",
    "print(d_bool)"
   ]
  },
  {
   "cell_type": "code",
   "execution_count": 212,
   "id": "628a6eab",
   "metadata": {},
   "outputs": [],
   "source": [
    "# print(d[d_bool])"
   ]
  },
  {
   "cell_type": "code",
   "execution_count": 215,
   "id": "99bf1ede",
   "metadata": {},
   "outputs": [
    {
     "name": "stdout",
     "output_type": "stream",
     "text": [
      "[[100 100 100   8 100 100]\n",
      " [ 20   5   8  18   3 100]\n",
      " [ 16  16  11   2  17 100]\n",
      " [ 19   9 100 100  10 100]\n",
      " [100 100   1   2  16 100]]\n"
     ]
    }
   ],
   "source": [
    "print(c)"
   ]
  },
  {
   "cell_type": "code",
   "execution_count": 217,
   "id": "da138c27",
   "metadata": {},
   "outputs": [
    {
     "name": "stdout",
     "output_type": "stream",
     "text": [
      "[False False False  True False]\n"
     ]
    }
   ],
   "source": [
    "bool_arr=c[:,3]==100\n",
    "print(bool_arr)"
   ]
  },
  {
   "cell_type": "code",
   "execution_count": 219,
   "id": "fabb80c5",
   "metadata": {},
   "outputs": [
    {
     "name": "stdout",
     "output_type": "stream",
     "text": [
      "[[100 100 100   8 100 100]\n",
      " [ 20   5   8  18   3 100]\n",
      " [ 16  16  11   2  17 100]\n",
      " [ 19   9 100  99  10 100]\n",
      " [100 100   1   2  16 100]]\n"
     ]
    }
   ],
   "source": [
    "c[bool_arr,3]=99\n",
    "print(c)"
   ]
  },
  {
   "cell_type": "code",
   "execution_count": 220,
   "id": "c02ccd31",
   "metadata": {},
   "outputs": [],
   "source": [
    "#NumPy Broadcasting\n",
    "# If two array are not of size how it will be treated - This allcases comes in broadcasting\n",
    "#If dimesions are equal then it is compatible\n",
    "#Also if array;s dimension ,one of them is 1"
   ]
  },
  {
   "cell_type": "code",
   "execution_count": 224,
   "id": "350ae37c",
   "metadata": {},
   "outputs": [
    {
     "name": "stdout",
     "output_type": "stream",
     "text": [
      "[[7 7 5]\n",
      " [6 9 4]\n",
      " [7 6 9]]\n",
      "[[6 1 7]\n",
      " [6 5 4]\n",
      " [1 4 2]]\n",
      "[[13  8 12]\n",
      " [12 14  8]\n",
      " [ 8 10 11]]\n"
     ]
    }
   ],
   "source": [
    "x=np.random.randint(1,10,(3,3))\n",
    "print(x)\n",
    "y=np.random.randint(1,10,(3,3))\n",
    "print(y)\n",
    "print(x+y)"
   ]
  },
  {
   "cell_type": "code",
   "execution_count": 233,
   "id": "813b9ec6",
   "metadata": {},
   "outputs": [
    {
     "name": "stdout",
     "output_type": "stream",
     "text": [
      "[[3 8 8]\n",
      " [5 5 6]\n",
      " [7 7 6]]\n",
      "[8 5 4]\n",
      "[[-5  3  4]\n",
      " [-3  0  2]\n",
      " [-1  2  2]]\n"
     ]
    }
   ],
   "source": [
    "a=np.random.randint(1,10,(3,3))\n",
    "print(a)\n",
    "b=np.random.randint(1,10,(3))\n",
    "print(b)\n",
    "ans=a-b\n",
    "print(ans)"
   ]
  }
 ],
 "metadata": {
  "kernelspec": {
   "display_name": "Python 3 (ipykernel)",
   "language": "python",
   "name": "python3"
  },
  "language_info": {
   "codemirror_mode": {
    "name": "ipython",
    "version": 3
   },
   "file_extension": ".py",
   "mimetype": "text/x-python",
   "name": "python",
   "nbconvert_exporter": "python",
   "pygments_lexer": "ipython3",
   "version": "3.10.0"
  }
 },
 "nbformat": 4,
 "nbformat_minor": 5
}
