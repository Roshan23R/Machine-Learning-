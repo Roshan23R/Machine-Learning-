{
 "cells": [
  {
   "cell_type": "code",
   "execution_count": 2,
   "id": "0f277c3f",
   "metadata": {},
   "outputs": [],
   "source": [
    "from sklearn import datasets\n",
    "from sklearn.model_selection import train_test_split"
   ]
  },
  {
   "cell_type": "code",
   "execution_count": 5,
   "id": "dff4f00c",
   "metadata": {},
   "outputs": [],
   "source": [
    "iris = datasets.load_iris()"
   ]
  },
  {
   "cell_type": "code",
   "execution_count": 6,
   "id": "7e81890b",
   "metadata": {},
   "outputs": [],
   "source": [
    "x= iris.data\n",
    "y = iris.target"
   ]
  },
  {
   "cell_type": "code",
   "execution_count": 7,
   "id": "2f7279bb",
   "metadata": {},
   "outputs": [],
   "source": [
    "x_train,x_test , y_train , y_test = train_test_split(x,y)"
   ]
  },
  {
   "cell_type": "code",
   "execution_count": 8,
   "id": "93822da9",
   "metadata": {},
   "outputs": [
    {
     "data": {
      "text/plain": [
       "array([2, 1, 0, 1, 2, 2, 1, 1, 2, 2, 1, 0, 2, 1, 0, 0, 2, 1, 2, 1, 2, 0,\n",
       "       0, 2, 0, 0, 1, 0, 0, 0, 2, 1, 2, 1, 0, 1, 2, 2, 0, 0, 2, 2, 2, 0,\n",
       "       1, 1, 1, 2, 1, 1, 1, 0, 1, 2, 0, 2, 0, 0, 1, 0, 0, 0, 2, 2, 1, 1,\n",
       "       0, 0, 1, 1, 2, 1, 1, 0, 0, 2, 2, 2, 1, 2, 0, 2, 2, 0, 0, 1, 0, 2,\n",
       "       1, 1, 2, 0, 2, 2, 1, 1, 0, 2, 0, 1, 0, 2, 2, 0, 1, 0, 1, 0, 2, 1,\n",
       "       1, 0])"
      ]
     },
     "execution_count": 8,
     "metadata": {},
     "output_type": "execute_result"
    }
   ],
   "source": [
    "y_train"
   ]
  },
  {
   "cell_type": "code",
   "execution_count": 11,
   "id": "f8d210cd",
   "metadata": {},
   "outputs": [],
   "source": [
    "from sklearn.neural_network import MLPClassifier"
   ]
  },
  {
   "cell_type": "code",
   "execution_count": 19,
   "id": "f4d0ef21",
   "metadata": {},
   "outputs": [],
   "source": [
    "clf = MLPClassifier(hidden_layer_sizes=(20,), max_iter = 3000)"
   ]
  },
  {
   "cell_type": "code",
   "execution_count": 20,
   "id": "767cadbc",
   "metadata": {},
   "outputs": [
    {
     "data": {
      "text/html": [
       "<style>#sk-container-id-3 {color: black;background-color: white;}#sk-container-id-3 pre{padding: 0;}#sk-container-id-3 div.sk-toggleable {background-color: white;}#sk-container-id-3 label.sk-toggleable__label {cursor: pointer;display: block;width: 100%;margin-bottom: 0;padding: 0.3em;box-sizing: border-box;text-align: center;}#sk-container-id-3 label.sk-toggleable__label-arrow:before {content: \"▸\";float: left;margin-right: 0.25em;color: #696969;}#sk-container-id-3 label.sk-toggleable__label-arrow:hover:before {color: black;}#sk-container-id-3 div.sk-estimator:hover label.sk-toggleable__label-arrow:before {color: black;}#sk-container-id-3 div.sk-toggleable__content {max-height: 0;max-width: 0;overflow: hidden;text-align: left;background-color: #f0f8ff;}#sk-container-id-3 div.sk-toggleable__content pre {margin: 0.2em;color: black;border-radius: 0.25em;background-color: #f0f8ff;}#sk-container-id-3 input.sk-toggleable__control:checked~div.sk-toggleable__content {max-height: 200px;max-width: 100%;overflow: auto;}#sk-container-id-3 input.sk-toggleable__control:checked~label.sk-toggleable__label-arrow:before {content: \"▾\";}#sk-container-id-3 div.sk-estimator input.sk-toggleable__control:checked~label.sk-toggleable__label {background-color: #d4ebff;}#sk-container-id-3 div.sk-label input.sk-toggleable__control:checked~label.sk-toggleable__label {background-color: #d4ebff;}#sk-container-id-3 input.sk-hidden--visually {border: 0;clip: rect(1px 1px 1px 1px);clip: rect(1px, 1px, 1px, 1px);height: 1px;margin: -1px;overflow: hidden;padding: 0;position: absolute;width: 1px;}#sk-container-id-3 div.sk-estimator {font-family: monospace;background-color: #f0f8ff;border: 1px dotted black;border-radius: 0.25em;box-sizing: border-box;margin-bottom: 0.5em;}#sk-container-id-3 div.sk-estimator:hover {background-color: #d4ebff;}#sk-container-id-3 div.sk-parallel-item::after {content: \"\";width: 100%;border-bottom: 1px solid gray;flex-grow: 1;}#sk-container-id-3 div.sk-label:hover label.sk-toggleable__label {background-color: #d4ebff;}#sk-container-id-3 div.sk-serial::before {content: \"\";position: absolute;border-left: 1px solid gray;box-sizing: border-box;top: 0;bottom: 0;left: 50%;z-index: 0;}#sk-container-id-3 div.sk-serial {display: flex;flex-direction: column;align-items: center;background-color: white;padding-right: 0.2em;padding-left: 0.2em;position: relative;}#sk-container-id-3 div.sk-item {position: relative;z-index: 1;}#sk-container-id-3 div.sk-parallel {display: flex;align-items: stretch;justify-content: center;background-color: white;position: relative;}#sk-container-id-3 div.sk-item::before, #sk-container-id-3 div.sk-parallel-item::before {content: \"\";position: absolute;border-left: 1px solid gray;box-sizing: border-box;top: 0;bottom: 0;left: 50%;z-index: -1;}#sk-container-id-3 div.sk-parallel-item {display: flex;flex-direction: column;z-index: 1;position: relative;background-color: white;}#sk-container-id-3 div.sk-parallel-item:first-child::after {align-self: flex-end;width: 50%;}#sk-container-id-3 div.sk-parallel-item:last-child::after {align-self: flex-start;width: 50%;}#sk-container-id-3 div.sk-parallel-item:only-child::after {width: 0;}#sk-container-id-3 div.sk-dashed-wrapped {border: 1px dashed gray;margin: 0 0.4em 0.5em 0.4em;box-sizing: border-box;padding-bottom: 0.4em;background-color: white;}#sk-container-id-3 div.sk-label label {font-family: monospace;font-weight: bold;display: inline-block;line-height: 1.2em;}#sk-container-id-3 div.sk-label-container {text-align: center;}#sk-container-id-3 div.sk-container {/* jupyter's `normalize.less` sets `[hidden] { display: none; }` but bootstrap.min.css set `[hidden] { display: none !important; }` so we also need the `!important` here to be able to override the default hidden behavior on the sphinx rendered scikit-learn.org. See: https://github.com/scikit-learn/scikit-learn/issues/21755 */display: inline-block !important;position: relative;}#sk-container-id-3 div.sk-text-repr-fallback {display: none;}</style><div id=\"sk-container-id-3\" class=\"sk-top-container\"><div class=\"sk-text-repr-fallback\"><pre>MLPClassifier(hidden_layer_sizes=(20,), max_iter=3000)</pre><b>In a Jupyter environment, please rerun this cell to show the HTML representation or trust the notebook. <br />On GitHub, the HTML representation is unable to render, please try loading this page with nbviewer.org.</b></div><div class=\"sk-container\" hidden><div class=\"sk-item\"><div class=\"sk-estimator sk-toggleable\"><input class=\"sk-toggleable__control sk-hidden--visually\" id=\"sk-estimator-id-3\" type=\"checkbox\" checked><label for=\"sk-estimator-id-3\" class=\"sk-toggleable__label sk-toggleable__label-arrow\">MLPClassifier</label><div class=\"sk-toggleable__content\"><pre>MLPClassifier(hidden_layer_sizes=(20,), max_iter=3000)</pre></div></div></div></div></div>"
      ],
      "text/plain": [
       "MLPClassifier(hidden_layer_sizes=(20,), max_iter=3000)"
      ]
     },
     "execution_count": 20,
     "metadata": {},
     "output_type": "execute_result"
    }
   ],
   "source": [
    "clf.fit(x_train,y_train)"
   ]
  },
  {
   "cell_type": "code",
   "execution_count": 22,
   "id": "a3e2438d",
   "metadata": {},
   "outputs": [
    {
     "data": {
      "text/plain": [
       "0.9473684210526315"
      ]
     },
     "execution_count": 22,
     "metadata": {},
     "output_type": "execute_result"
    }
   ],
   "source": [
    "clf.score(x_test,y_test)"
   ]
  },
  {
   "cell_type": "code",
   "execution_count": 24,
   "id": "c1f95095",
   "metadata": {},
   "outputs": [
    {
     "data": {
      "text/plain": [
       "[array([[-2.55989534e-11, -5.08431157e-02,  4.84691564e-01,\n",
       "          2.55631889e-01, -3.99125438e-29, -2.55758500e-05,\n",
       "          6.52593543e-01, -7.88096659e-03,  2.35377845e-01,\n",
       "          3.63572616e-01,  2.32734631e-01, -3.55822446e-04,\n",
       "          2.16189103e-01,  2.18431866e-29,  6.56479100e-01,\n",
       "         -7.47220423e-11,  2.50129716e-02,  3.42892531e-01,\n",
       "         -1.94129532e-01, -7.52455147e-02],\n",
       "        [-4.14102948e-03,  2.41132309e-01, -4.10295234e-01,\n",
       "          5.51186685e-01, -2.56531624e-03,  3.80224996e-29,\n",
       "          1.13164134e+00, -9.60107602e-04, -4.27002992e-01,\n",
       "          6.14632997e-01,  3.58217588e-01,  7.89777873e-07,\n",
       "          1.02881318e+00, -4.07677358e-04,  3.29589384e-01,\n",
       "         -4.20259955e-04,  1.38243219e-01, -2.38517947e-01,\n",
       "          2.75291411e-01, -4.33823898e-02],\n",
       "        [ 4.00410363e-29, -3.59776613e-01,  5.17069573e-01,\n",
       "         -3.41134235e-01, -6.30695808e-27, -2.01375151e-26,\n",
       "         -1.16980279e+00, -8.66812821e-04,  3.45764208e-01,\n",
       "         -5.86978324e-01, -3.66034413e-01, -1.07110731e-04,\n",
       "         -7.40306223e-01,  1.55011827e-06,  3.06164322e-01,\n",
       "         -2.79371733e-29, -1.70217527e-02,  1.59276118e-02,\n",
       "         -5.25284793e-02, -1.53100626e-02],\n",
       "        [ 3.37793595e-04,  4.29250261e-01, -1.44336597e-01,\n",
       "         -7.12968245e-01,  4.16312636e-07, -4.89343671e-26,\n",
       "         -1.23013974e+00, -1.11734777e-07, -3.77484960e-01,\n",
       "         -3.96753449e-01, -1.91933401e-01,  2.19515180e-11,\n",
       "         -7.03387540e-01, -1.67405074e-05,  7.91429855e-01,\n",
       "         -5.76805539e-03,  9.99334063e-02, -2.11576026e-01,\n",
       "         -3.50377254e-01, -5.14674305e-02]]),\n",
       " array([[-2.23131371e-04, -2.52081101e-29,  1.78169800e-08],\n",
       "        [-2.25259630e-01,  4.65374947e-01, -1.53579633e-01],\n",
       "        [-7.21805069e-01, -2.18307292e-01, -1.93408240e-01],\n",
       "        [ 4.48591610e-01, -1.18317337e-01, -5.63145311e-01],\n",
       "        [-3.11843271e-07, -3.93938371e-03,  2.05287368e-03],\n",
       "        [ 2.57054240e-11, -1.42105238e-29,  1.52295527e-05],\n",
       "        [ 1.26224979e+00,  1.02931601e+00, -1.22015085e+00],\n",
       "        [ 1.16752310e-05, -6.62406718e-05,  3.87622864e-13],\n",
       "        [-3.64462896e-01,  6.93446147e-01,  7.27944386e-02],\n",
       "        [ 1.53718461e-01, -1.94962579e-02, -1.07478568e+00],\n",
       "        [ 4.72226348e-01,  2.90722639e-01, -3.26295951e-01],\n",
       "        [ 9.87152968e-05,  1.28886387e-04,  7.83927878e-04],\n",
       "        [ 5.45583754e-01, -2.66763376e-01, -4.06029757e-01],\n",
       "        [-4.53225349e-03,  3.39343751e-20,  3.54418366e-03],\n",
       "        [-5.10312944e-01,  4.60635382e-02,  6.46143578e-01],\n",
       "        [-2.11262395e-21, -3.44717400e-05,  2.34083416e-04],\n",
       "        [ 2.48598800e-01,  8.66028312e-02,  7.24659610e-03],\n",
       "        [-4.14857204e-01,  2.37133770e-02, -2.81894957e-01],\n",
       "        [-3.65082927e-01,  3.61897345e-01, -1.84834423e-01],\n",
       "        [-1.51214607e-16,  6.14679606e-05, -3.49555663e-05]])]"
      ]
     },
     "execution_count": 24,
     "metadata": {},
     "output_type": "execute_result"
    }
   ],
   "source": [
    "clf.coefs_"
   ]
  },
  {
   "cell_type": "code",
   "execution_count": 28,
   "id": "531f6272",
   "metadata": {},
   "outputs": [
    {
     "data": {
      "text/plain": [
       "2"
      ]
     },
     "execution_count": 28,
     "metadata": {},
     "output_type": "execute_result"
    }
   ],
   "source": [
    "len(clf.coefs_)"
   ]
  },
  {
   "cell_type": "code",
   "execution_count": 31,
   "id": "7e5a84d4",
   "metadata": {},
   "outputs": [
    {
     "data": {
      "text/plain": [
       "((4, 20), (20, 3))"
      ]
     },
     "execution_count": 31,
     "metadata": {},
     "output_type": "execute_result"
    }
   ],
   "source": [
    "clf.coefs_[0].shape , clf.coefs_[1].shape"
   ]
  },
  {
   "cell_type": "code",
   "execution_count": 33,
   "id": "73726666",
   "metadata": {},
   "outputs": [
    {
     "data": {
      "text/plain": [
       "((20,), (3,))"
      ]
     },
     "execution_count": 33,
     "metadata": {},
     "output_type": "execute_result"
    }
   ],
   "source": [
    "clf.intercepts_[0].shape , clf.intercepts_[1].shape"
   ]
  }
 ],
 "metadata": {
  "kernelspec": {
   "display_name": "Python 3 (ipykernel)",
   "language": "python",
   "name": "python3"
  },
  "language_info": {
   "codemirror_mode": {
    "name": "ipython",
    "version": 3
   },
   "file_extension": ".py",
   "mimetype": "text/x-python",
   "name": "python",
   "nbconvert_exporter": "python",
   "pygments_lexer": "ipython3",
   "version": "3.10.0"
  }
 },
 "nbformat": 4,
 "nbformat_minor": 5
}
